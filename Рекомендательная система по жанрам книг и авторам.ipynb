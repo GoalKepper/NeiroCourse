{
  "nbformat": 4,
  "nbformat_minor": 0,
  "metadata": {
    "colab": {
      "name": "Library.ipynb",
      "provenance": [],
      "collapsed_sections": []
    },
    "kernelspec": {
      "name": "python3",
      "display_name": "Python 3"
    },
    "language_info": {
      "name": "python"
    }
  },
  "cells": [
    {
      "cell_type": "code",
      "metadata": {
        "id": "qW6243KRLETJ"
      },
      "source": [
        "#ввод различных значений\n",
        "\n",
        "genres = ['a', 'b', 'c']\n",
        "authors  = ['x', 'y', 'z']\n",
        "\n",
        "readed_books_data = [['a', 'x'], ['a', 'x'], ['c', 'x'], ['b', 'z'], ['b', 'z'], ['a', 'y']]\n",
        "quantity_of_books = len(readed_books_data)\n",
        "account_data_genres = ['a', 'c']\n",
        "size_account_genres = len(account_data_genres)\n",
        "account_data_authors = ['z']\n",
        "size_account_authors = len(account_data_authors)\n",
        "\n",
        "size = 7\n",
        "need_size = 5\n",
        "\n",
        "books_data = [['a', 'x', 4.2], ['a', 'x', 3.7], ['a', 'y', 2.1], ['a', 'z', 4.3], ['b', 'x', 3.3], ['b', 'y', 4.5], ['b', 'y', 3.8], ['c', 'x', 4.7], ['c', 'y', 5], ['c', 'z', 1.2], ['c', 'z', 3.3]]"
      ],
      "execution_count": null,
      "outputs": []
    },
    {
      "cell_type": "code",
      "metadata": {
        "id": "2cbqWaknPfU-"
      },
      "source": [
        "#обработка данных - жанры\n",
        "\n",
        "proc_of_genres = []\n",
        "for i in genres:\n",
        "  count = 0.0\n",
        "  readed_books_data_size = 0.0\n",
        "  for j in readed_books_data:\n",
        "    if j[0] == i:\n",
        "      readed_books_data_size += 1\n",
        "  if i in account_data_genres:\n",
        "    count += (2 + (size - len(readed_books_data))) / size_account_genres\n",
        "  count += size / (len(readed_books_data)) * readed_books_data_size\n",
        "  proc_of_genres.append([i, count])"
      ],
      "execution_count": null,
      "outputs": []
    },
    {
      "cell_type": "code",
      "metadata": {
        "id": "YykDtqhCs-e7"
      },
      "source": [
        "#обработка данных - писатели\n",
        "\n",
        "proc_of_authors = []\n",
        "\n",
        "for i in authors:\n",
        "  count = 0\n",
        "  readed_authors_data_size = 0.0\n",
        "  for j in readed_books_data:\n",
        "    if j[1] == i:\n",
        "      readed_authors_data_size += 1\n",
        "  if i in account_data_authors:\n",
        "    count += (2 + (size - len(readed_books_data))) / size_account_authors\n",
        "  count += size / (len(readed_books_data)) * readed_authors_data_size\n",
        "  proc_of_authors.append([i, count])"
      ],
      "execution_count": null,
      "outputs": []
    },
    {
      "cell_type": "code",
      "metadata": {
        "id": "iq5yy6t0tpl3",
        "colab": {
          "base_uri": "https://localhost:8080/"
        },
        "outputId": "f1d2d261-b468-46cc-cc45-5fd4477b300a"
      },
      "source": [
        "#обработка рейтинга книг + общие значения\n",
        "\n",
        "final_books_data = []\n",
        "for i in books_data:\n",
        "  for h in proc_of_genres:\n",
        "    if h[0] == i[0]:\n",
        "      k: float = h[1]\n",
        "      break\n",
        "  for h in proc_of_authors:\n",
        "    if h[0] == i[1]:\n",
        "      final_books_data.append([i[0], i[1], i[2] + k + h[1]])\n",
        "      break\n",
        "\n",
        "final_books_data.sort(key = lambda x: x[2], reverse = True)\n",
        "print(final_books_data[:need_size])\n"
      ],
      "execution_count": null,
      "outputs": [
        {
          "output_type": "stream",
          "name": "stdout",
          "text": [
            "[['a', 'z', 14.633333333333335], ['a', 'x', 12.7], ['a', 'x', 12.2], ['c', 'z', 11.3], ['c', 'x', 10.866666666666667]]\n"
          ]
        }
      ]
    }
  ]
}