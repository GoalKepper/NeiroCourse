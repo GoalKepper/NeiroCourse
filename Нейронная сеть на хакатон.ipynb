{
  "cells": [
    {
      "cell_type": "markdown",
      "metadata": {
        "id": "tv-dHdZ_9Wof"
      },
      "source": [
        "# Усовершенствованная реализация модели\n"
      ]
    },
    {
      "cell_type": "markdown",
      "metadata": {
        "id": "lKZX9KBP9bKU"
      },
      "source": [
        "Вместо того, чтобы использовать только модели из `scikit-learn`, мы искали более продвинутое и мощное решение проблемы. Прежде всего, мы попробовали реализовать несколько моделей, таких как `GradientBoostClassifier` и `RandomTreeClassifier`."
      ]
    },
    {
      "cell_type": "markdown",
      "metadata": {
        "id": "siKtCab19yjc"
      },
      "source": [
        "Они были хороши, пока мы не достигли точности `0,908`, поэтому с переработкой базовых моделей мы начинаем использовать обновленный набор данных и более продвинутую модель."
      ]
    },
    {
      "cell_type": "code",
      "execution_count": null,
      "metadata": {
        "id": "Spffh5kV-hqd"
      },
      "outputs": [],
      "source": [
        "import random as rn\n",
        "\n",
        "import numpy as np\n",
        "import pandas as pd\n",
        "import sklearn as sk\n",
        "\n",
        "from sklearn.metrics import accuracy_score\n",
        "from sklearn.ensemble import VotingClassifier, ExtraTreesClassifier,\\\n",
        "                             GradientBoostingClassifier, RandomForestClassifier\n",
        "from sklearn.model_selection import train_test_split"
      ]
    },
    {
      "cell_type": "markdown",
      "metadata": {
        "id": "qMZM5Xjo-lxq"
      },
      "source": [
        "После подключения библиотек мы приступаем к обновлению набора данных."
      ]
    },
    {
      "cell_type": "code",
      "execution_count": null,
      "metadata": {
        "id": "_OoT4RYR9Tjo"
      },
      "outputs": [],
      "source": [
        "df = pd.read_csv('https://gitlab.com/MaskedTrench/csv-database/-/raw/main/dataset.csv', sep = ',')\n",
        "df = df.fillna(0)\n",
        "\n",
        "df['rto'] = df[['rto_6','rto_7', 'rto_8', 'rto_9', 'rto_10', 'rto_11', 'rto_12']].sum(axis=1)\n",
        "df = df.drop(columns=['rto_6','rto_7', 'rto_8', 'rto_9', 'rto_10', 'rto_11', 'rto_12'])\n",
        "df['rto_std'] = df[['rto_std_6','rto_std_7', 'rto_std_8', 'rto_std_9', 'rto_std_10', 'rto_std_11', 'rto_std_12']].sum(axis=1)\n",
        "df = df.drop(columns=['rto_std_6','rto_std_7', 'rto_std_8', 'rto_std_9', 'rto_std_10', 'rto_std_11', 'rto_std_12'])\n",
        "df['cnt_checks'] = df[['cnt_checks_6','cnt_checks_7', 'cnt_checks_8', 'cnt_checks_9', 'cnt_checks_10', 'cnt_checks_11', 'cnt_checks_12']].sum(axis=1)\n",
        "df = df.drop(columns=['cnt_checks_6','cnt_checks_7', 'cnt_checks_8', 'cnt_checks_9', 'cnt_checks_10', 'cnt_checks_11', 'cnt_checks_12'])\n",
        "\n",
        "df['rto_Крупы и зерновые'] = df[['rto_6_Крупы и зерновые','rto_7_Крупы и зерновые', 'rto_8_Крупы и зерновые', 'rto_9_Крупы и зерновые', 'rto_10_Крупы и зерновые', 'rto_11_Крупы и зерновые', 'rto_12_Крупы и зерновые']].sum(axis=1)\n",
        "df = df.drop(columns=['rto_6_Крупы и зерновые','rto_7_Крупы и зерновые', 'rto_8_Крупы и зерновые', 'rto_9_Крупы и зерновые', 'rto_10_Крупы и зерновые', 'rto_11_Крупы и зерновые', 'rto_12_Крупы и зерновые'])\n",
        "df['rto_Мясная гастрономия'] = df[['rto_6_Мясная гастрономия','rto_7_Мясная гастрономия', 'rto_8_Мясная гастрономия', 'rto_9_Мясная гастрономия', 'rto_10_Мясная гастрономия', 'rto_11_Мясная гастрономия', 'rto_12_Мясная гастрономия']].sum(axis=1)\n",
        "df = df.drop(columns=['rto_6_Мясная гастрономия','rto_7_Мясная гастрономия', 'rto_8_Мясная гастрономия', 'rto_9_Мясная гастрономия', 'rto_10_Мясная гастрономия', 'rto_11_Мясная гастрономия', 'rto_12_Мясная гастрономия'])\n",
        "df['rto_Овощи - Фрукты'] = df[['rto_6_Овощи - Фрукты','rto_7_Овощи - Фрукты', 'rto_8_Овощи - Фрукты', 'rto_9_Овощи - Фрукты', 'rto_10_Овощи - Фрукты', 'rto_11_Овощи - Фрукты', 'rto_12_Овощи - Фрукты']].sum(axis=1)\n",
        "df = df.drop(columns=['rto_6_Овощи - Фрукты','rto_7_Овощи - Фрукты', 'rto_8_Овощи - Фрукты', 'rto_9_Овощи - Фрукты', 'rto_10_Овощи - Фрукты', 'rto_11_Овощи - Фрукты', 'rto_12_Овощи - Фрукты'])\n",
        "df['rto_Птица и изделия из птицы'] = df[['rto_6_Птица и изделия из птицы','rto_7_Птица и изделия из птицы', 'rto_8_Птица и изделия из птицы', 'rto_9_Птица и изделия из птицы', 'rto_10_Птица и изделия из птицы', 'rto_11_Птица и изделия из птицы', 'rto_12_Птица и изделия из птицы']].sum(axis=1)\n",
        "df = df.drop(columns=['rto_6_Птица и изделия из птицы','rto_7_Птица и изделия из птицы', 'rto_8_Птица и изделия из птицы', 'rto_9_Птица и изделия из птицы', 'rto_10_Птица и изделия из птицы', 'rto_11_Птица и изделия из птицы', 'rto_12_Птица и изделия из птицы'])\n",
        "df['rto_Рыба и рыбные изделия'] = df[['rto_6_Рыба и рыбные изделия','rto_7_Рыба и рыбные изделия', 'rto_8_Рыба и рыбные изделия', 'rto_9_Рыба и рыбные изделия', 'rto_10_Рыба и рыбные изделия', 'rto_11_Рыба и рыбные изделия', 'rto_12_Рыба и рыбные изделия']].sum(axis=1)\n",
        "df = df.drop(columns=['rto_6_Рыба и рыбные изделия','rto_7_Рыба и рыбные изделия', 'rto_8_Рыба и рыбные изделия', 'rto_9_Рыба и рыбные изделия', 'rto_10_Рыба и рыбные изделия', 'rto_11_Рыба и рыбные изделия', 'rto_12_Рыба и рыбные изделия'])\n",
        "df['rto_Сыры'] = df[['rto_6_Сыры','rto_7_Сыры', 'rto_8_Сыры', 'rto_9_Сыры', 'rto_10_Сыры', 'rto_11_Сыры', 'rto_12_Сыры']].sum(axis=1)\n",
        "df = df.drop(columns=['rto_6_Сыры','rto_7_Сыры', 'rto_8_Сыры', 'rto_9_Сыры', 'rto_10_Сыры', 'rto_11_Сыры', 'rto_12_Сыры'])\n",
        "\n",
        "df['rto_stddev_Крупы и зерновые'] = df[['rto_stddev_6_Крупы и зерновые','rto_stddev_7_Крупы и зерновые', 'rto_stddev_8_Крупы и зерновые', 'rto_stddev_9_Крупы и зерновые', 'rto_stddev_10_Крупы и зерновые', 'rto_stddev_11_Крупы и зерновые', 'rto_stddev_12_Крупы и зерновые']].sum(axis=1)\n",
        "df = df.drop(columns=['rto_stddev_6_Крупы и зерновые','rto_stddev_7_Крупы и зерновые', 'rto_stddev_8_Крупы и зерновые', 'rto_stddev_9_Крупы и зерновые', 'rto_stddev_10_Крупы и зерновые', 'rto_stddev_11_Крупы и зерновые', 'rto_stddev_12_Крупы и зерновые'])\n",
        "df['rto_stddev_Мясная гастрономия'] = df[['rto_stddev_6_Мясная гастрономия','rto_stddev_7_Мясная гастрономия', 'rto_stddev_8_Мясная гастрономия', 'rto_stddev_9_Мясная гастрономия', 'rto_stddev_10_Мясная гастрономия', 'rto_stddev_11_Мясная гастрономия', 'rto_stddev_12_Мясная гастрономия']].sum(axis=1)\n",
        "df = df.drop(columns=['rto_stddev_6_Мясная гастрономия','rto_stddev_7_Мясная гастрономия', 'rto_stddev_8_Мясная гастрономия', 'rto_stddev_9_Мясная гастрономия', 'rto_stddev_10_Мясная гастрономия', 'rto_stddev_11_Мясная гастрономия', 'rto_stddev_12_Мясная гастрономия'])\n",
        "df['rto_stddev_Овощи - Фрукты'] = df[['rto_stddev_6_Овощи - Фрукты','rto_stddev_7_Овощи - Фрукты', 'rto_stddev_8_Овощи - Фрукты', 'rto_stddev_9_Овощи - Фрукты', 'rto_stddev_10_Овощи - Фрукты', 'rto_stddev_11_Овощи - Фрукты', 'rto_stddev_12_Овощи - Фрукты']].sum(axis=1)\n",
        "df = df.drop(columns=['rto_stddev_6_Овощи - Фрукты','rto_stddev_7_Овощи - Фрукты', 'rto_stddev_8_Овощи - Фрукты', 'rto_stddev_9_Овощи - Фрукты', 'rto_stddev_10_Овощи - Фрукты', 'rto_stddev_11_Овощи - Фрукты', 'rto_stddev_12_Овощи - Фрукты'])\n",
        "df['rto_stddev_Птица и изделия из птицы'] = df[['rto_stddev_6_Птица и изделия из птицы','rto_stddev_7_Птица и изделия из птицы', 'rto_stddev_8_Птица и изделия из птицы', 'rto_stddev_9_Птица и изделия из птицы', 'rto_stddev_10_Птица и изделия из птицы', 'rto_stddev_11_Птица и изделия из птицы', 'rto_stddev_12_Птица и изделия из птицы']].sum(axis=1)\n",
        "df = df.drop(columns=['rto_stddev_6_Птица и изделия из птицы','rto_stddev_7_Птица и изделия из птицы', 'rto_stddev_8_Птица и изделия из птицы', 'rto_stddev_9_Птица и изделия из птицы', 'rto_stddev_10_Птица и изделия из птицы', 'rto_stddev_11_Птица и изделия из птицы', 'rto_stddev_12_Птица и изделия из птицы'])\n",
        "df['rto_stddev_Рыба и рыбные изделия'] = df[['rto_stddev_6_Рыба и рыбные изделия','rto_stddev_7_Рыба и рыбные изделия', 'rto_stddev_8_Рыба и рыбные изделия', 'rto_stddev_9_Рыба и рыбные изделия', 'rto_stddev_10_Рыба и рыбные изделия', 'rto_stddev_11_Рыба и рыбные изделия', 'rto_stddev_12_Рыба и рыбные изделия']].sum(axis=1)\n",
        "df = df.drop(columns=['rto_stddev_6_Рыба и рыбные изделия','rto_stddev_7_Рыба и рыбные изделия', 'rto_stddev_8_Рыба и рыбные изделия', 'rto_stddev_9_Рыба и рыбные изделия', 'rto_stddev_10_Рыба и рыбные изделия', 'rto_stddev_11_Рыба и рыбные изделия', 'rto_stddev_12_Рыба и рыбные изделия'])\n",
        "df['rto_stddev_Сыры'] = df[['rto_stddev_6_Сыры','rto_stddev_7_Сыры', 'rto_stddev_8_Сыры', 'rto_stddev_9_Сыры', 'rto_stddev_10_Сыры', 'rto_stddev_11_Сыры', 'rto_stddev_12_Сыры']].sum(axis=1)\n",
        "df = df.drop(columns=['rto_stddev_6_Сыры','rto_stddev_7_Сыры', 'rto_stddev_8_Сыры', 'rto_stddev_9_Сыры', 'rto_stddev_10_Сыры', 'rto_stddev_11_Сыры', 'rto_stddev_12_Сыры'])\n",
        "\n",
        "df['cnt_checks_Крупы и зерновые'] = df[['cnt_checks_6_Крупы и зерновые','cnt_checks_7_Крупы и зерновые', 'cnt_checks_8_Крупы и зерновые', 'cnt_checks_9_Крупы и зерновые', 'cnt_checks_10_Крупы и зерновые', 'cnt_checks_11_Крупы и зерновые', 'cnt_checks_12_Крупы и зерновые']].sum(axis=1)\n",
        "df = df.drop(columns=['cnt_checks_6_Крупы и зерновые','cnt_checks_7_Крупы и зерновые', 'cnt_checks_8_Крупы и зерновые', 'cnt_checks_9_Крупы и зерновые', 'cnt_checks_10_Крупы и зерновые', 'cnt_checks_11_Крупы и зерновые', 'cnt_checks_12_Крупы и зерновые'])\n",
        "df['cnt_checks_Мясная гастрономия'] = df[['cnt_checks_6_Мясная гастрономия','cnt_checks_7_Мясная гастрономия', 'cnt_checks_8_Мясная гастрономия', 'cnt_checks_9_Мясная гастрономия', 'cnt_checks_10_Мясная гастрономия', 'cnt_checks_11_Мясная гастрономия', 'cnt_checks_12_Мясная гастрономия']].sum(axis=1)\n",
        "df = df.drop(columns=['cnt_checks_6_Мясная гастрономия','cnt_checks_7_Мясная гастрономия', 'cnt_checks_8_Мясная гастрономия', 'cnt_checks_9_Мясная гастрономия', 'cnt_checks_10_Мясная гастрономия', 'cnt_checks_11_Мясная гастрономия', 'cnt_checks_12_Мясная гастрономия'])\n",
        "df['cnt_checks_Овощи - Фрукты'] = df[['cnt_checks_6_Овощи - Фрукты','cnt_checks_7_Овощи - Фрукты', 'cnt_checks_8_Овощи - Фрукты', 'cnt_checks_9_Овощи - Фрукты', 'cnt_checks_10_Овощи - Фрукты', 'cnt_checks_11_Овощи - Фрукты', 'cnt_checks_12_Овощи - Фрукты']].sum(axis=1)\n",
        "df = df.drop(columns=['cnt_checks_6_Овощи - Фрукты','cnt_checks_7_Овощи - Фрукты', 'cnt_checks_8_Овощи - Фрукты', 'cnt_checks_9_Овощи - Фрукты', 'cnt_checks_10_Овощи - Фрукты', 'cnt_checks_11_Овощи - Фрукты', 'cnt_checks_12_Овощи - Фрукты'])\n",
        "df['cnt_checks_Птица и изделия из птицы'] = df[['cnt_checks_6_Птица и изделия из птицы','cnt_checks_7_Птица и изделия из птицы', 'cnt_checks_8_Птица и изделия из птицы', 'cnt_checks_9_Птица и изделия из птицы', 'cnt_checks_10_Птица и изделия из птицы', 'cnt_checks_11_Птица и изделия из птицы', 'cnt_checks_12_Птица и изделия из птицы']].sum(axis=1)\n",
        "df = df.drop(columns=['cnt_checks_6_Птица и изделия из птицы','cnt_checks_7_Птица и изделия из птицы', 'cnt_checks_8_Птица и изделия из птицы', 'cnt_checks_9_Птица и изделия из птицы', 'cnt_checks_10_Птица и изделия из птицы', 'cnt_checks_11_Птица и изделия из птицы', 'cnt_checks_12_Птица и изделия из птицы'])\n",
        "df['cnt_checks_Рыба и рыбные изделия'] = df[['cnt_checks_6_Рыба и рыбные изделия','cnt_checks_7_Рыба и рыбные изделия', 'cnt_checks_8_Рыба и рыбные изделия', 'cnt_checks_9_Рыба и рыбные изделия', 'cnt_checks_10_Рыба и рыбные изделия', 'cnt_checks_11_Рыба и рыбные изделия', 'cnt_checks_12_Рыба и рыбные изделия']].sum(axis=1)\n",
        "df = df.drop(columns=['cnt_checks_6_Рыба и рыбные изделия','cnt_checks_7_Рыба и рыбные изделия', 'cnt_checks_8_Рыба и рыбные изделия', 'cnt_checks_9_Рыба и рыбные изделия', 'cnt_checks_10_Рыба и рыбные изделия', 'cnt_checks_11_Рыба и рыбные изделия', 'cnt_checks_12_Рыба и рыбные изделия'])\n",
        "df['cnt_checks_Сыры'] = df[['cnt_checks_6_Сыры','cnt_checks_7_Сыры', 'cnt_checks_8_Сыры', 'cnt_checks_9_Сыры', 'cnt_checks_10_Сыры', 'cnt_checks_11_Сыры', 'cnt_checks_12_Сыры']].sum(axis=1)\n",
        "df = df.drop(columns=['cnt_checks_6_Сыры','cnt_checks_7_Сыры', 'cnt_checks_8_Сыры', 'cnt_checks_9_Сыры', 'cnt_checks_10_Сыры', 'cnt_checks_11_Сыры', 'cnt_checks_12_Сыры'])\n",
        "\n",
        "df = df.drop(columns=['client_id', 'rto_stddev_Рыба и рыбные изделия', 'rto_Рыба и рыбные изделия', 'cnt_checks_Рыба и рыбные изделия'])"
      ]
    },
    {
      "cell_type": "markdown",
      "metadata": {
        "id": "AujQalHu-2Vz"
      },
      "source": [
        "Мы обновили набор данных, чтобы он работал как сумма всех коэффициентов из таблицы за определенный период времени. Это помогло нам сократить количество ненужных данных."
      ]
    },
    {
      "cell_type": "markdown",
      "metadata": {
        "id": "VJfQLZrC_SxW"
      },
      "source": [
        "## Оценки\n"
      ]
    },
    {
      "cell_type": "markdown",
      "metadata": {
        "id": "GYo6jzNm_VH3"
      },
      "source": [
        "### Внутренняя Оценка"
      ]
    },
    {
      "cell_type": "markdown",
      "metadata": {
        "id": "eWYMWyKP_XQP"
      },
      "source": [
        "Мы решили разделить набор данных на несколько наборов, для этого мы использовали наиболее перспективный классификатор - `RandomTreeClassifier` "
      ]
    },
    {
      "cell_type": "code",
      "execution_count": null,
      "metadata": {
        "id": "pkm1yiWZ_lw5"
      },
      "outputs": [],
      "source": [
        "inner_estimate: list = []\n",
        "counter: int = 0\n",
        "\n",
        "for i in range(100):\n",
        "  inner_estimate.append(\n",
        "    (f'in_est-{counter}', rn.choice([RandomForestClassifier(), GradientBoostingClassifier()]))\n",
        "  )\n",
        "  counter += 1\n"
      ]
    },
    {
      "cell_type": "markdown",
      "metadata": {
        "id": "qsTz0NtgBUIr"
      },
      "source": [
        "После этого мы организовали данные в форме двух выборок: X и y\n"
      ]
    },
    {
      "cell_type": "code",
      "execution_count": null,
      "metadata": {
        "id": "BAIjQOXU_oyq"
      },
      "outputs": [],
      "source": [
        "X = df.drop(columns=['is_in_club'])\n",
        "y = df['is_in_club']"
      ]
    },
    {
      "cell_type": "markdown",
      "metadata": {
        "id": "qdfbDnBZDpn2"
      },
      "source": [
        "И только после этого мы начали их изучать, превращая целые классификаторы в кластер"
      ]
    },
    {
      "cell_type": "code",
      "execution_count": null,
      "metadata": {
        "colab": {
          "base_uri": "https://localhost:8080/"
        },
        "id": "fXnxW_qaDqXi",
        "outputId": "c4f6ffd6-f6be-4b3a-bd77-e4620d812737"
      },
      "outputs": [
        {
          "output_type": "stream",
          "name": "stdout",
          "text": [
            "--------------------\n",
            "Machine id is: in_est-0\n",
            "in_est-0 - Accurancy is: 0.9079681923857191\n",
            "\n",
            "\n",
            "--------------------\n",
            "Machine id is: in_est-1\n",
            "in_est-1 - Accurancy is: 0.907760880188358\n",
            "\n",
            "\n",
            "--------------------\n",
            "Machine id is: in_est-2\n",
            "in_est-2 - Accurancy is: 0.9078201122447469\n",
            "\n",
            "\n",
            "--------------------\n",
            "Machine id is: in_est-3\n",
            "in_est-3 - Accurancy is: 0.9078793443011358\n",
            "\n",
            "\n",
            "--------------------\n",
            "Machine id is: in_est-4\n",
            "in_est-4 - Accurancy is: 0.908027424442108\n",
            "\n",
            "\n",
            "--------------------\n",
            "Machine id is: in_est-5\n",
            "in_est-5 - Accurancy is: 0.9080126164280108\n",
            "\n",
            "\n",
            "--------------------\n",
            "Machine id is: in_est-6\n",
            "in_est-6 - Accurancy is: 0.9079681923857191\n",
            "\n",
            "\n",
            "--------------------\n",
            "Machine id is: in_est-7\n",
            "in_est-7 - Accurancy is: 0.9079533843716219\n",
            "\n",
            "\n",
            "--------------------\n",
            "Machine id is: in_est-8\n",
            "in_est-8 - Accurancy is: 0.907760880188358\n",
            "\n",
            "\n",
            "--------------------\n",
            "Machine id is: in_est-9\n",
            "in_est-9 - Accurancy is: 0.9078793443011358\n",
            "\n",
            "\n",
            "--------------------\n",
            "Machine id is: in_est-10\n",
            "in_est-10 - Accurancy is: 0.9076572240896773\n",
            "\n",
            "\n",
            "--------------------\n",
            "Machine id is: in_est-11\n",
            "in_est-11 - Accurancy is: 0.9079089603293302\n",
            "\n",
            "\n",
            "--------------------\n",
            "Machine id is: in_est-12\n",
            "in_est-12 - Accurancy is: 0.9080422324562053\n",
            "\n",
            "\n",
            "--------------------\n",
            "Machine id is: in_est-13\n",
            "in_est-13 - Accurancy is: 0.9078497282729413\n",
            "\n",
            "\n",
            "--------------------\n",
            "Machine id is: in_est-14\n",
            "in_est-14 - Accurancy is: 0.9079237683434275\n",
            "\n",
            "\n",
            "--------------------\n",
            "Machine id is: in_est-15\n",
            "in_est-15 - Accurancy is: 0.9077016481319691\n",
            "\n",
            "\n",
            "--------------------\n",
            "Machine id is: in_est-16\n",
            "in_est-16 - Accurancy is: 0.9080422324562053\n",
            "\n",
            "\n",
            "--------------------\n",
            "Machine id is: in_est-17\n",
            "in_est-17 - Accurancy is: 0.9078793443011358\n",
            "\n",
            "\n",
            "--------------------\n",
            "Machine id is: in_est-18\n",
            "in_est-18 - Accurancy is: 0.9077016481319691\n",
            "\n",
            "\n",
            "--------------------\n",
            "Machine id is: in_est-19\n",
            "in_est-19 - Accurancy is: 0.9079385763575247\n",
            "\n",
            "\n",
            "--------------------\n",
            "Machine id is: in_est-20\n",
            "in_est-20 - Accurancy is: 0.908086656498497\n",
            "\n",
            "\n",
            "--------------------\n",
            "Machine id is: in_est-21\n",
            "in_est-21 - Accurancy is: 0.9079681923857191\n",
            "\n",
            "\n",
            "--------------------\n",
            "Machine id is: in_est-22\n",
            "in_est-22 - Accurancy is: 0.9080570404703026\n",
            "\n",
            "\n",
            "--------------------\n",
            "Machine id is: in_est-23\n",
            "in_est-23 - Accurancy is: 0.9079830003998164\n",
            "\n",
            "\n",
            "--------------------\n",
            "Machine id is: in_est-24\n",
            "in_est-24 - Accurancy is: 0.907894152315233\n",
            "\n",
            "\n",
            "--------------------\n",
            "Machine id is: in_est-25\n",
            "in_est-25 - Accurancy is: 0.9078053042306496\n",
            "\n",
            "\n",
            "--------------------\n",
            "Machine id is: in_est-26\n",
            "in_est-26 - Accurancy is: 0.9077904962165524\n",
            "\n",
            "\n",
            "--------------------\n",
            "Machine id is: in_est-27\n",
            "in_est-27 - Accurancy is: 0.9078497282729413\n",
            "\n",
            "\n",
            "--------------------\n",
            "Machine id is: in_est-28\n",
            "in_est-28 - Accurancy is: 0.9078645362870386\n",
            "\n",
            "\n",
            "--------------------\n",
            "Machine id is: in_est-29\n",
            "in_est-29 - Accurancy is: 0.9078497282729413\n",
            "\n",
            "\n",
            "--------------------\n",
            "Machine id is: in_est-30\n",
            "in_est-30 - Accurancy is: 0.907894152315233\n",
            "\n",
            "\n",
            "--------------------\n",
            "Machine id is: in_est-31\n",
            "in_est-31 - Accurancy is: 0.9079385763575247\n",
            "\n",
            "\n",
            "--------------------\n",
            "Machine id is: in_est-32\n",
            "in_est-32 - Accurancy is: 0.9078645362870386\n",
            "\n",
            "\n",
            "--------------------\n",
            "Machine id is: in_est-33\n",
            "in_est-33 - Accurancy is: 0.9079237683434275\n",
            "\n",
            "\n",
            "--------------------\n",
            "Machine id is: in_est-34\n",
            "in_est-34 - Accurancy is: 0.9079237683434275\n",
            "\n",
            "\n",
            "--------------------\n",
            "Machine id is: in_est-35\n",
            "in_est-35 - Accurancy is: 0.9079830003998164\n",
            "\n",
            "\n",
            "--------------------\n",
            "Machine id is: in_est-36\n",
            "in_est-36 - Accurancy is: 0.9079978084139136\n",
            "\n",
            "\n",
            "--------------------\n",
            "Machine id is: in_est-37\n",
            "in_est-37 - Accurancy is: 0.9078053042306496\n",
            "\n",
            "\n",
            "--------------------\n",
            "Machine id is: in_est-38\n",
            "in_est-38 - Accurancy is: 0.9078793443011358\n",
            "\n",
            "\n",
            "--------------------\n",
            "Machine id is: in_est-39\n",
            "in_est-39 - Accurancy is: 0.9079385763575247\n",
            "\n",
            "\n",
            "--------------------\n",
            "Machine id is: in_est-40\n",
            "in_est-40 - Accurancy is: 0.9079385763575247\n",
            "\n",
            "\n",
            "--------------------\n",
            "Machine id is: in_est-41\n",
            "in_est-41 - Accurancy is: 0.907760880188358\n",
            "\n",
            "\n",
            "--------------------\n",
            "Machine id is: in_est-42\n",
            "in_est-42 - Accurancy is: 0.9079385763575247\n",
            "\n",
            "\n",
            "--------------------\n",
            "Machine id is: in_est-43\n",
            "in_est-43 - Accurancy is: 0.9077164561460662\n",
            "\n",
            "\n",
            "--------------------\n",
            "Machine id is: in_est-44\n",
            "in_est-44 - Accurancy is: 0.9078053042306496\n",
            "\n",
            "\n",
            "--------------------\n",
            "Machine id is: in_est-45\n",
            "in_est-45 - Accurancy is: 0.9077756882024551\n",
            "\n",
            "\n",
            "--------------------\n",
            "Machine id is: in_est-46\n",
            "in_est-46 - Accurancy is: 0.9079237683434275\n",
            "\n",
            "\n",
            "--------------------\n",
            "Machine id is: in_est-47\n",
            "in_est-47 - Accurancy is: 0.907834920258844\n",
            "\n",
            "\n",
            "--------------------\n",
            "Machine id is: in_est-48\n",
            "in_est-48 - Accurancy is: 0.908027424442108\n",
            "\n",
            "\n",
            "--------------------\n",
            "Machine id is: in_est-49\n",
            "in_est-49 - Accurancy is: 0.9079237683434275\n",
            "\n",
            "\n",
            "--------------------\n",
            "Machine id is: in_est-50\n",
            "in_est-50 - Accurancy is: 0.9079978084139136\n",
            "\n",
            "\n",
            "--------------------\n",
            "Machine id is: in_est-51\n",
            "in_est-51 - Accurancy is: 0.9077756882024551\n",
            "\n",
            "\n",
            "--------------------\n",
            "Machine id is: in_est-52\n",
            "in_est-52 - Accurancy is: 0.9079681923857191\n",
            "\n",
            "\n",
            "--------------------\n",
            "Machine id is: in_est-53\n",
            "in_est-53 - Accurancy is: 0.9078793443011358\n",
            "\n",
            "\n",
            "--------------------\n",
            "Machine id is: in_est-54\n",
            "in_est-54 - Accurancy is: 0.9080570404703026\n",
            "\n",
            "\n",
            "--------------------\n",
            "Machine id is: in_est-55\n",
            "in_est-55 - Accurancy is: 0.9080126164280108\n",
            "\n",
            "\n",
            "--------------------\n",
            "Machine id is: in_est-56\n",
            "in_est-56 - Accurancy is: 0.9081310805407887\n",
            "\n",
            "\n",
            "--------------------\n",
            "Machine id is: in_est-57\n",
            "in_est-57 - Accurancy is: 0.9079830003998164\n",
            "\n",
            "\n",
            "--------------------\n",
            "Machine id is: in_est-58\n",
            "in_est-58 - Accurancy is: 0.9078201122447469\n",
            "\n",
            "\n",
            "--------------------\n",
            "Machine id is: in_est-59\n",
            "in_est-59 - Accurancy is: 0.9078497282729413\n",
            "\n",
            "\n",
            "--------------------\n",
            "Machine id is: in_est-60\n",
            "in_est-60 - Accurancy is: 0.907834920258844\n",
            "\n",
            "\n",
            "--------------------\n",
            "Machine id is: in_est-61\n",
            "in_est-61 - Accurancy is: 0.9079237683434275\n",
            "\n",
            "\n",
            "--------------------\n",
            "Machine id is: in_est-62\n",
            "in_est-62 - Accurancy is: 0.9078793443011358\n",
            "\n",
            "\n",
            "--------------------\n",
            "Machine id is: in_est-63\n",
            "in_est-63 - Accurancy is: 0.9080126164280108\n",
            "\n",
            "\n",
            "--------------------\n",
            "Machine id is: in_est-64\n",
            "in_est-64 - Accurancy is: 0.907760880188358\n",
            "\n",
            "\n",
            "--------------------\n",
            "Machine id is: in_est-65\n",
            "in_est-65 - Accurancy is: 0.9078793443011358\n",
            "\n",
            "\n",
            "--------------------\n",
            "Machine id is: in_est-66\n",
            "in_est-66 - Accurancy is: 0.9077756882024551\n",
            "\n",
            "\n",
            "--------------------\n",
            "Machine id is: in_est-67\n",
            "in_est-67 - Accurancy is: 0.9079385763575247\n",
            "\n",
            "\n",
            "--------------------\n",
            "Machine id is: in_est-68\n",
            "in_est-68 - Accurancy is: 0.9079089603293302\n",
            "\n",
            "\n",
            "--------------------\n",
            "Machine id is: in_est-69\n",
            "in_est-69 - Accurancy is: 0.908086656498497\n",
            "\n",
            "\n",
            "--------------------\n",
            "Machine id is: in_est-70\n",
            "in_est-70 - Accurancy is: 0.9077312641601635\n",
            "\n",
            "\n",
            "--------------------\n",
            "Machine id is: in_est-71\n",
            "in_est-71 - Accurancy is: 0.9079830003998164\n",
            "\n",
            "\n",
            "--------------------\n",
            "Machine id is: in_est-72\n",
            "in_est-72 - Accurancy is: 0.907760880188358\n",
            "\n",
            "\n",
            "--------------------\n",
            "Machine id is: in_est-73\n",
            "in_est-73 - Accurancy is: 0.9078793443011358\n",
            "\n",
            "\n",
            "--------------------\n",
            "Machine id is: in_est-74\n",
            "in_est-74 - Accurancy is: 0.9080126164280108\n",
            "\n",
            "\n",
            "--------------------\n",
            "Machine id is: in_est-75\n",
            "in_est-75 - Accurancy is: 0.9079089603293302\n",
            "\n",
            "\n",
            "--------------------\n",
            "Machine id is: in_est-76\n",
            "in_est-76 - Accurancy is: 0.907834920258844\n",
            "\n",
            "\n",
            "--------------------\n",
            "Machine id is: in_est-77\n",
            "in_est-77 - Accurancy is: 0.9077312641601635\n",
            "\n",
            "\n",
            "--------------------\n",
            "Machine id is: in_est-78\n",
            "in_est-78 - Accurancy is: 0.9077904962165524\n",
            "\n",
            "\n",
            "--------------------\n",
            "Machine id is: in_est-79\n",
            "in_est-79 - Accurancy is: 0.9078497282729413\n",
            "\n",
            "\n",
            "--------------------\n",
            "Machine id is: in_est-80\n",
            "in_est-80 - Accurancy is: 0.9079830003998164\n",
            "\n",
            "\n",
            "--------------------\n",
            "Machine id is: in_est-81\n",
            "in_est-81 - Accurancy is: 0.9079978084139136\n",
            "\n",
            "\n",
            "--------------------\n",
            "Machine id is: in_est-82\n",
            "in_est-82 - Accurancy is: 0.9077756882024551\n",
            "\n",
            "\n",
            "--------------------\n",
            "Machine id is: in_est-83\n",
            "in_est-83 - Accurancy is: 0.907834920258844\n",
            "\n",
            "\n",
            "--------------------\n",
            "Machine id is: in_est-84\n",
            "in_est-84 - Accurancy is: 0.9079089603293302\n",
            "\n",
            "\n",
            "--------------------\n",
            "Machine id is: in_est-85\n",
            "in_est-85 - Accurancy is: 0.9079089603293302\n",
            "\n",
            "\n",
            "--------------------\n",
            "Machine id is: in_est-86\n",
            "in_est-86 - Accurancy is: 0.907834920258844\n",
            "\n",
            "\n",
            "--------------------\n",
            "Machine id is: in_est-87\n",
            "in_est-87 - Accurancy is: 0.9080126164280108\n",
            "\n",
            "\n",
            "--------------------\n",
            "Machine id is: in_est-88\n",
            "in_est-88 - Accurancy is: 0.9078793443011358\n",
            "\n",
            "\n",
            "--------------------\n",
            "Machine id is: in_est-89\n",
            "in_est-89 - Accurancy is: 0.907894152315233\n",
            "\n",
            "\n",
            "--------------------\n",
            "Machine id is: in_est-90\n",
            "in_est-90 - Accurancy is: 0.9078201122447469\n",
            "\n",
            "\n",
            "--------------------\n",
            "Machine id is: in_est-91\n",
            "in_est-91 - Accurancy is: 0.9079681923857191\n",
            "\n",
            "\n",
            "--------------------\n",
            "Machine id is: in_est-92\n",
            "in_est-92 - Accurancy is: 0.907760880188358\n",
            "\n",
            "\n",
            "--------------------\n",
            "Machine id is: in_est-93\n",
            "in_est-93 - Accurancy is: 0.907894152315233\n",
            "\n",
            "\n",
            "--------------------\n",
            "Machine id is: in_est-94\n",
            "in_est-94 - Accurancy is: 0.907834920258844\n",
            "\n",
            "\n",
            "--------------------\n",
            "Machine id is: in_est-95\n",
            "in_est-95 - Accurancy is: 0.907894152315233\n",
            "\n",
            "\n",
            "--------------------\n",
            "Machine id is: in_est-96\n",
            "in_est-96 - Accurancy is: 0.907834920258844\n",
            "\n",
            "\n",
            "--------------------\n",
            "Machine id is: in_est-97\n",
            "in_est-97 - Accurancy is: 0.907760880188358\n",
            "\n",
            "\n",
            "--------------------\n",
            "Machine id is: in_est-98\n",
            "in_est-98 - Accurancy is: 0.907894152315233\n",
            "\n",
            "\n",
            "--------------------\n",
            "Machine id is: in_est-99\n",
            "in_est-99 - Accurancy is: 0.9078497282729413\n",
            "\n",
            "\n"
          ]
        }
      ],
      "source": [
        "for i in range(0, 100):\n",
        "  # Debug print\n",
        "  print(f'--------------------\\nMachine id is: {inner_estimate[i][0]}')\n",
        "  \n",
        "  # Getting specified data\n",
        "  X = df.drop(columns=[\n",
        "     rn.choice(['rto_Крупы и зерновые', 'rto_Мясная гастрономия',\n",
        "                'rto_Овощи - Фрукты', 'rto_Птица и изделия из птицы',\n",
        "                'rto_Сыры']),\n",
        "\n",
        "     rn.choice(['rto_stddev_Крупы и зерновые', 'rto_stddev_Мясная гастрономия',\n",
        "                'rto_stddev_Овощи - Фрукты', 'rto_stddev_Птица и изделия из птицы',\n",
        "                'rto_stddev_Сыры']),\n",
        "\n",
        "     rn.choice(['cnt_checks_Крупы и зерновые', 'cnt_checks_Мясная гастрономия',\n",
        "                'cnt_checks_Овощи - Фрукты', 'cnt_checks_Птица и изделия из птицы', 'cnt_checks_Сыры']),\n",
        "     'is_in_club'\n",
        "  ])\n",
        "  y = df['is_in_club']\n",
        "\n",
        "  X_train, X_test, y_train, y_test = train_test_split(X, y, test_size=0.50, random_state = 2020, stratify=y)\n",
        "\n",
        "  # Learning them \n",
        "  inner_estimate[i][1].fit(X_train, y_train)\n",
        "  y_pred = inner_estimate[i][1].predict(X_test)\n",
        "  y_pred_log_reg = inner_estimate[i][1].predict_proba(X_test)\n",
        "  print(f'{inner_estimate[i][0]} - Accurancy is: {accuracy_score(y_test, y_pred)}\\n\\n')\n",
        "  counter += 1"
      ]
    },
    {
      "cell_type": "markdown",
      "metadata": {
        "id": "hnqrZGYOOf4y"
      },
      "source": [
        "Как это работает\n",
        "\n",
        "После запуска код, прежде всего, выберет случайные столбцы для удаления. Он начинает обучение на разных наборах данных. Мы не понимаем, как предоставить им фрагмент данных"
      ]
    },
    {
      "cell_type": "markdown",
      "metadata": {
        "id": "2Ugg3cdGTP79"
      },
      "source": [
        "### Нестабильные оценки\n",
        "\n",
        "Для работы с более изменчивыми данными мы использовали нестабильные модели. Они работают как селекторы `what if` и включены в основную оценку в одном элементе"
      ]
    },
    {
      "cell_type": "code",
      "execution_count": null,
      "metadata": {
        "id": "QE4hjRN-Tp8-",
        "colab": {
          "base_uri": "https://localhost:8080/",
          "height": 235
        },
        "outputId": "0a7c230d-734b-4508-8b71-9eea729b4a42"
      },
      "outputs": [
        {
          "output_type": "error",
          "ename": "NameError",
          "evalue": "ignored",
          "traceback": [
            "\u001b[0;31m---------------------------------------------------------------------------\u001b[0m",
            "\u001b[0;31mNameError\u001b[0m                                 Traceback (most recent call last)",
            "\u001b[0;32m<ipython-input-1-47feef5c2d2f>\u001b[0m in \u001b[0;36m<module>\u001b[0;34m()\u001b[0m\n\u001b[1;32m      3\u001b[0m \u001b[0;34m\u001b[0m\u001b[0m\n\u001b[1;32m      4\u001b[0m \u001b[0;32mfor\u001b[0m \u001b[0mi\u001b[0m \u001b[0;32min\u001b[0m \u001b[0mrange\u001b[0m\u001b[0;34m(\u001b[0m\u001b[0;36m20\u001b[0m\u001b[0;34m)\u001b[0m\u001b[0;34m:\u001b[0m\u001b[0;34m\u001b[0m\u001b[0;34m\u001b[0m\u001b[0m\n\u001b[0;32m----> 5\u001b[0;31m     inner_estimate.append((f'unstable_est-{counter}', rn.choice([\n\u001b[0m\u001b[1;32m      6\u001b[0m        RandomForestClassifier(\n\u001b[1;32m      7\u001b[0m         \u001b[0mn_estimators\u001b[0m\u001b[0;34m=\u001b[0m\u001b[0mrn\u001b[0m\u001b[0;34m.\u001b[0m\u001b[0mrandint\u001b[0m\u001b[0;34m(\u001b[0m\u001b[0;36m100\u001b[0m\u001b[0;34m,\u001b[0m \u001b[0;36m1000\u001b[0m\u001b[0;34m)\u001b[0m\u001b[0;34m,\u001b[0m \u001b[0mn_jobs\u001b[0m\u001b[0;34m=\u001b[0m\u001b[0mrn\u001b[0m\u001b[0;34m.\u001b[0m\u001b[0mrandint\u001b[0m\u001b[0;34m(\u001b[0m\u001b[0;36m1\u001b[0m\u001b[0;34m,\u001b[0m \u001b[0;36m10\u001b[0m\u001b[0;34m)\u001b[0m\u001b[0;34m,\u001b[0m\u001b[0;34m\u001b[0m\u001b[0;34m\u001b[0m\u001b[0m\n",
            "\u001b[0;31mNameError\u001b[0m: name 'inner_estimate' is not defined"
          ]
        }
      ],
      "source": [
        "unstable_estimate: list = []\n",
        "counter: int = 0\n",
        "\n",
        "for i in range(20):\n",
        "    inner_estimate.append((f'unstable_est-{counter}', rn.choice([\n",
        "       RandomForestClassifier(\n",
        "        n_estimators=rn.randint(100, 1000), n_jobs=rn.randint(1, 10),\n",
        "        criterion=rn.choice(['entropy', 'gini']), random_state=rn.randint(0, 40),\n",
        "        learning_rate=float(rn.randit(1, 10))\n",
        "        ),\n",
        "\n",
        "       GradientBoostingClassifier(\n",
        "        n_estimators=rn.randint(100, 1000), n_jobs=rn.randint(1, 10),\n",
        "        criterion=rn.choice(['entropy', 'gini']),\n",
        "        learning_rate=float(rn.randint(1, 10))\n",
        "        )])\n",
        "    ))\n",
        "\n",
        "    counter += 1\n"
      ]
    },
    {
      "cell_type": "markdown",
      "metadata": {
        "id": "etKL1o03WJZS"
      },
      "source": [
        "Мы их не обучаем. Причина в том, что они нестабильны, поэтому каждое принятое ими решение должно быть уникальным."
      ]
    },
    {
      "cell_type": "markdown",
      "metadata": {
        "id": "pabt04l7Qg2j"
      },
      "source": [
        "## Построение\n",
        "\n",
        "Основная оценка, которая будет включена в основной классификатор, конструируется с помощью классификаторов внутренней оценки и разделения"
      ]
    },
    {
      "cell_type": "code",
      "execution_count": null,
      "metadata": {
        "id": "Rj_YcQB6QgQ0"
      },
      "outputs": [],
      "source": [
        "estimate = [\n",
        "      ('m_est-0', ExtraTreesClassifier()),\n",
        "      ('m_est-1', RandomForestClassifier()),\n",
        "      ('m_cmx_est-1', VotingClassifier(inner_estimate.copy(), voting=\"soft\")),\n",
        "      ('m_cmx_est-2', VotingClassifier(inner_estimate.copy(), voting=\"soft\")),\n",
        "      ('m_cmx_un_est-1', VotingClassifier(unstable_estimate, voting=\"soft\")),\n",
        "]"
      ]
    },
    {
      "cell_type": "markdown",
      "metadata": {
        "id": "J4jSg6_3SuXI"
      },
      "source": [
        "Подготовка данных"
      ]
    },
    {
      "cell_type": "code",
      "execution_count": null,
      "metadata": {
        "id": "qZf6PL23SwmS"
      },
      "outputs": [],
      "source": [
        "X = df.drop(columns=['is_in_club'])\n",
        "y = df['is_in_club']\n",
        "\n",
        "X_train, X_test, y_train, y_test = train_test_split(X, y, test_size=0.50, random_state = 2020, stratify=y)"
      ]
    },
    {
      "cell_type": "markdown",
      "metadata": {
        "id": "B8qYee9hSdUx"
      },
      "source": [
        "Построение основного VotingClassifier"
      ]
    },
    {
      "cell_type": "code",
      "execution_count": null,
      "metadata": {
        "id": "Cuh_dMjMD2-W"
      },
      "outputs": [],
      "source": [
        "mch = VotingClassifier(estimate, voting='soft')\n",
        "mch.fit(X_train, y_train)\n",
        "y_pred = mch.predict(X_test)\n",
        "y_pred_log_reg = mch.predict_proba(X_test)"
      ]
    },
    {
      "cell_type": "markdown",
      "metadata": {
        "id": "heqiIG9YTAdX"
      },
      "source": [
        "И получение оценок точности\n"
      ]
    },
    {
      "cell_type": "code",
      "execution_count": null,
      "metadata": {
        "id": "3yH18zpOTCky"
      },
      "outputs": [],
      "source": [
        "accuracy_score(y_test, y_pred)"
      ]
    }
  ],
  "metadata": {
    "colab": {
      "collapsed_sections": [],
      "name": "AdvancedModelRus.ipynb",
      "provenance": []
    },
    "kernelspec": {
      "display_name": "Python 3",
      "name": "python3"
    },
    "language_info": {
      "name": "python"
    }
  },
  "nbformat": 4,
  "nbformat_minor": 0
}